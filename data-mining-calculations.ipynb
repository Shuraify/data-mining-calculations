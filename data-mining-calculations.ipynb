{
 "cells": [
  {
   "cell_type": "markdown",
   "id": "f768b410",
   "metadata": {},
   "source": [
    "# Imports"
   ]
  },
  {
   "cell_type": "code",
   "execution_count": 1,
   "id": "854666da",
   "metadata": {},
   "outputs": [],
   "source": [
    "import pandas as pd\n",
    "import numpy as np\n",
    "\n",
    "import scipy.linalg as la\n",
    "\n",
    "from sklearn.metrics.pairwise import euclidean_distances, manhattan_distances\n",
    "from sklearn.metrics.pairwise import cosine_similarity\n",
    "from sklearn.feature_extraction.text import CountVectorizer, TfidfVectorizer"
   ]
  },
  {
   "cell_type": "markdown",
   "id": "04eac9a9",
   "metadata": {},
   "source": [
    "# Expectation\n",
    "\n",
    "\\begin{equation*}\n",
    "EV = \\Sigma P(X_i) \\times X_i\n",
    "\\end{equation*}\n",
    "\n",
    "Note: If we assume that the values an element of a feature can take are all equally likely, then the expected value is just the mean value."
   ]
  },
  {
   "cell_type": "code",
   "execution_count": 2,
   "id": "2fdbbe28",
   "metadata": {},
   "outputs": [],
   "source": [
    "def expectation(a):\n",
    "    # prb: the probability of the outcome occurring\n",
    "    prb = 1 / len(a)\n",
    "     \n",
    "    # calculating expectation overall\n",
    "    sum = 0\n",
    "    for i in range(0, len(a)):\n",
    "        sum += (a[i] * prb)\n",
    "         \n",
    "    # returning expectation as sum\n",
    "    return float(sum)"
   ]
  },
  {
   "cell_type": "code",
   "execution_count": 3,
   "id": "330628b4",
   "metadata": {},
   "outputs": [
    {
     "name": "stdout",
     "output_type": "stream",
     "text": [
      "3.5\n"
     ]
    }
   ],
   "source": [
    "X = [1, 2, 3, 4, 5, 6]\n",
    "print(expectation(X))"
   ]
  },
  {
   "cell_type": "markdown",
   "id": "8a8ecd73",
   "metadata": {},
   "source": [
    "# Variance\n",
    "\\begin{equation*}\n",
    "\\sigma ^2 = \\frac{\\Sigma (x_i - \\bar{x})^2}{n - 1}\n",
    "\\end{equation*}"
   ]
  },
  {
   "cell_type": "code",
   "execution_count": 4,
   "id": "ac3c00fa",
   "metadata": {},
   "outputs": [],
   "source": [
    "def variance(data):\n",
    "    # Number of observations\n",
    "    n = len(data)\n",
    "    # Mean of the data\n",
    "    mean = sum(data) / n\n",
    "    # Square deviations\n",
    "    deviations = [(x - mean) ** 2 for x in data]\n",
    "    # Variance of sample\n",
    "    variance = sum(deviations) / (n - 1)\n",
    "    # Variance of population (uncomment it if necessary)\n",
    "    # variance = sum(deviations) / n\n",
    "    return variance"
   ]
  },
  {
   "cell_type": "code",
   "execution_count": 5,
   "id": "db815367",
   "metadata": {},
   "outputs": [
    {
     "name": "stdout",
     "output_type": "stream",
     "text": [
      "9326.628787878786\n"
     ]
    }
   ],
   "source": [
    "X = [800,720,655,655,625,600,590,529,513,502,502,502]\n",
    "print(variance(X))"
   ]
  },
  {
   "cell_type": "markdown",
   "id": "f60a00e2",
   "metadata": {},
   "source": [
    "# Covariance\n",
    "\\begin{equation*}\n",
    "\\text{Covariance(X, Y)} = \\frac{\\Sigma (X - \\bar{X}) (Y - \\bar{Y})}{n - 1}\n",
    "\\end{equation*}"
   ]
  },
  {
   "cell_type": "code",
   "execution_count": 6,
   "id": "13849968",
   "metadata": {},
   "outputs": [
    {
     "name": "stdout",
     "output_type": "stream",
     "text": [
      "9107.3\n"
     ]
    }
   ],
   "source": [
    "X = [1692, 1978, 1884, 2151, 2519]\n",
    "Y = [68, 102, 110, 112, 154]\n",
    "cov = np.cov(X, Y)[0][1]\n",
    "print(cov)"
   ]
  },
  {
   "cell_type": "markdown",
   "id": "0aaffdbc",
   "metadata": {},
   "source": [
    "# Pearson's Correlation\n",
    "\\begin{equation*}\n",
    "\\text{SD} = \\sqrt{\\frac{\\Sigma (X - \\bar{X})^2}{n - 1}}\n",
    "\\end{equation*}\n",
    "\\begin{equation*}\n",
    "\\text{Pearson's Correletion Coefficient} = \\frac{Cov(x,y)}{SD(X) \\times SD(Y)}\n",
    "\\end{equation*}"
   ]
  },
  {
   "cell_type": "code",
   "execution_count": 7,
   "id": "1021e6f8",
   "metadata": {},
   "outputs": [],
   "source": [
    "def pearson(a, b):\n",
    "    cov_a_b = np.cov(a, b)[0][1]\n",
    "    std_a = np.sqrt(variance(a))\n",
    "    std_b = np.sqrt(variance(b))\n",
    "    prs = cov_a_b / (std_a * std_b)\n",
    "    return prs"
   ]
  },
  {
   "cell_type": "code",
   "execution_count": 8,
   "id": "378c885e",
   "metadata": {},
   "outputs": [
    {
     "name": "stdout",
     "output_type": "stream",
     "text": [
      "0.7333715932635338\n"
     ]
    }
   ],
   "source": [
    "X = [73, 52, 68, 47, 60, 71, 67, 80, 86, 91, 67, 73, 71, 57, 86, 76, 91, 69, 87, 77]\n",
    "Y = [90, 74, 91, 62, 63, 78, 60, 89, 82, 105, 76, 82, 93, 73, 82, 88, 97, 80, 87, 95]\n",
    "prs = pearson(X, Y)\n",
    "print(prs)"
   ]
  },
  {
   "cell_type": "markdown",
   "id": "05138e37",
   "metadata": {},
   "source": [
    "# Distances"
   ]
  },
  {
   "cell_type": "code",
   "execution_count": 9,
   "id": "f63ee925",
   "metadata": {},
   "outputs": [],
   "source": [
    "pq = [[1, 4], [2, 5]]"
   ]
  },
  {
   "cell_type": "markdown",
   "id": "7585c8b7",
   "metadata": {},
   "source": [
    "### 1. Euclidean\n",
    "\n",
    "<img src=\"euclidean.png\" width=200>\n",
    "\n",
    "\\begin{equation*}\n",
    "d(p,q) = \\sqrt{\\sum\\limits_{i=1}^{n} (q_i - p_i)^2}\n",
    "\\end{equation*}"
   ]
  },
  {
   "cell_type": "code",
   "execution_count": 10,
   "id": "315f332f",
   "metadata": {},
   "outputs": [
    {
     "name": "stdout",
     "output_type": "stream",
     "text": [
      "1.414\n"
     ]
    }
   ],
   "source": [
    "euclid = euclidean_distances(pq, pq)[0][1]\n",
    "rounded_euclid = round(euclidean_distances(pq, pq)[0][1], 3)\n",
    "print(rounded_euclid)"
   ]
  },
  {
   "cell_type": "markdown",
   "id": "16a260c7",
   "metadata": {},
   "source": [
    "### 2. Manhattan\n",
    "\n",
    "<img src=\"manhattan.png\" width=200>\n",
    "\n",
    "Definition: the sum of the distance between rows and the distance between columns"
   ]
  },
  {
   "cell_type": "code",
   "execution_count": 11,
   "id": "c548fae3",
   "metadata": {},
   "outputs": [
    {
     "name": "stdout",
     "output_type": "stream",
     "text": [
      "2.0\n"
     ]
    }
   ],
   "source": [
    "manh = manhattan_distances(pq, pq)[0][1]\n",
    "rounded_manh = round(manhattan_distances(pq, pq)[0][1], 3)\n",
    "print(rounded_manh)"
   ]
  },
  {
   "cell_type": "markdown",
   "id": "4a235ef4",
   "metadata": {},
   "source": [
    "# Eignevectors and Eigenvalues\n",
    "\n",
    "\\begin{equation*}\n",
    "Av = \\lambda v\n",
    "\\end{equation*}\n",
    "<center> Where A is matrix, v is Eigenvector, and lambda is Eigenvalue </center>"
   ]
  },
  {
   "cell_type": "markdown",
   "id": "981e6025",
   "metadata": {},
   "source": [
    "#### Create matrix of shape 4 x 4"
   ]
  },
  {
   "cell_type": "code",
   "execution_count": 12,
   "id": "43ee9de4",
   "metadata": {},
   "outputs": [
    {
     "name": "stdout",
     "output_type": "stream",
     "text": [
      "[[9 6 0 7]\n",
      " [1 1 5 1]\n",
      " [4 7 9 2]\n",
      " [0 0 7 3]]\n"
     ]
    }
   ],
   "source": [
    "n = 4\n",
    "P = np.random.randint(low=0, high=10, size=(n, n))\n",
    "print(P)"
   ]
  },
  {
   "cell_type": "markdown",
   "id": "70266493",
   "metadata": {},
   "source": [
    "##### Create a symmetric matrix by multplying P with its transpose\n",
    "\\begin{align} \\text{S (Symmetric Matrix)} = PP^T \\end{align}"
   ]
  },
  {
   "cell_type": "code",
   "execution_count": 13,
   "id": "9a228b2a",
   "metadata": {},
   "outputs": [
    {
     "name": "stdout",
     "output_type": "stream",
     "text": [
      "[[166  22  92  21]\n",
      " [ 22  28  58  38]\n",
      " [ 92  58 150  69]\n",
      " [ 21  38  69  58]]\n"
     ]
    }
   ],
   "source": [
    "# @ here is used for matrix multiplication, and .T for transposing the matrix\n",
    "S = P @ P.T\n",
    "print(S)"
   ]
  },
  {
   "cell_type": "code",
   "execution_count": 14,
   "id": "ed2420f2",
   "metadata": {},
   "outputs": [
    {
     "name": "stdout",
     "output_type": "stream",
     "text": [
      "[286.1235508 +0.j 100.08059251+0.j  15.39573255+0.j   0.40012414+0.j]\n"
     ]
    }
   ],
   "source": [
    "evals, evecs = la.eig(S)\n",
    "print(evals)"
   ]
  },
  {
   "cell_type": "code",
   "execution_count": 15,
   "id": "a1bb5c6e",
   "metadata": {},
   "outputs": [
    {
     "name": "stdout",
     "output_type": "stream",
     "text": [
      "eigenvalues: \n",
      " [286.1235508  100.08059251  15.39573255   0.40012414]\n",
      "eigenvectors: \n",
      " [[-0.61924561 -0.74353251  0.2486993  -0.04292953]\n",
      " [-0.25018937  0.30745753  0.13961254 -0.90740481]\n",
      " [-0.67929117  0.34967506 -0.60937652  0.21201679]\n",
      " [-0.30414415  0.47995481  0.73980893  0.36030883]]\n"
     ]
    }
   ],
   "source": [
    "evals = evals.real\n",
    "print(f\"eigenvalues: \\n {evals}\")\n",
    "print(f\"eigenvectors: \\n {evecs}\")"
   ]
  },
  {
   "cell_type": "markdown",
   "id": "eed9b0c5",
   "metadata": {},
   "source": [
    "# Similarity Measures"
   ]
  },
  {
   "cell_type": "code",
   "execution_count": 16,
   "id": "81b6b6c0",
   "metadata": {},
   "outputs": [],
   "source": [
    "x = \"Julie loves me more than Linda loves me\"\n",
    "y = \"Jane likes me more than Julie loves me\""
   ]
  },
  {
   "cell_type": "markdown",
   "id": "cb27bd01",
   "metadata": {},
   "source": [
    "### 1. Dice\n",
    "<img src=\"dice.png\" width=\"200\">"
   ]
  },
  {
   "cell_type": "code",
   "execution_count": 17,
   "id": "81ea6e7a",
   "metadata": {},
   "outputs": [],
   "source": [
    "def get_dice_sim(str1, str2):\n",
    "    a = set(str1.split())\n",
    "    b = set(str2.split())\n",
    "    c = a.intersection(b)\n",
    "    return float(2 * len(c)) / (len(a) + len(b))"
   ]
  },
  {
   "cell_type": "code",
   "execution_count": 18,
   "id": "0c219494",
   "metadata": {},
   "outputs": [
    {
     "name": "stdout",
     "output_type": "stream",
     "text": [
      "The Dice Similarity Measure is: 0.7692\n"
     ]
    }
   ],
   "source": [
    "print(f\"The Dice Similarity Measure is: {round(get_dice_sim(x,y), 4)}\")"
   ]
  },
  {
   "cell_type": "markdown",
   "id": "2f964fac",
   "metadata": {},
   "source": [
    "### 2. Jaccard\n",
    "\n",
    "<img src=\"jaccard.png\" width=\"200\">"
   ]
  },
  {
   "cell_type": "code",
   "execution_count": 19,
   "id": "4d8bb5ac",
   "metadata": {},
   "outputs": [],
   "source": [
    "def get_jaccard_sim(str1, str2): \n",
    "    a = set(str1.split())\n",
    "    b = set(str2.split())\n",
    "    c = a.intersection(b)\n",
    "    return float(len(c)) / (len(a) + len(b) - len(c)) "
   ]
  },
  {
   "cell_type": "code",
   "execution_count": 20,
   "id": "ca436506",
   "metadata": {},
   "outputs": [
    {
     "name": "stdout",
     "output_type": "stream",
     "text": [
      "The Jaccard Similarity Measure is: 0.625\n"
     ]
    }
   ],
   "source": [
    "print(f\"The Jaccard Similarity Measure is: {round(get_jaccard_sim(x,y), 4)}\")"
   ]
  },
  {
   "cell_type": "markdown",
   "id": "169a1255",
   "metadata": {},
   "source": [
    "### 3. Cosine\n",
    "\n",
    "<img src=\"cosine.png\" width=\"200\">\n",
    "\n",
    "Note: if you want to use Tf-IDF vectorizer, when you invoke the method, type \"tfidf\" in the third argument"
   ]
  },
  {
   "cell_type": "code",
   "execution_count": 21,
   "id": "a10eb9da",
   "metadata": {},
   "outputs": [],
   "source": [
    "def get_cosine_sim(str1, str2, count_type=\"count\"):\n",
    "    documents = [str1, str2]\n",
    "    if count_type == \"count\":\n",
    "        count_vectorizer = CountVectorizer()\n",
    "        sparse_matrix = count_vectorizer.fit_transform(documents)\n",
    "        doc_term_matrix = sparse_matrix.todense()\n",
    "        df_count_vectorizer = pd.DataFrame(doc_term_matrix, \n",
    "                      columns=count_vectorizer.get_feature_names(), \n",
    "                      index=['doc_1', 'doc_2'])\n",
    "        return cosine_similarity(df_count_vectorizer, df_count_vectorizer)\n",
    "    elif count_type == \"tfidf\":\n",
    "        tfidf_vectorizer = TfidfVectorizer()\n",
    "        sparse_matrix = tfidf_vectorizer.fit_transform(documents)\n",
    "        doc_term_matrix = sparse_matrix.todense()\n",
    "        df_count_vectorizer = pd.DataFrame(doc_term_matrix, \n",
    "                      columns=tfidf_vectorizer.get_feature_names(), \n",
    "                      index=['doc_1', 'doc_2'])\n",
    "    return cosine_similarity(tfidf_vectorizer, tfidf_vectorizer)"
   ]
  },
  {
   "cell_type": "code",
   "execution_count": 22,
   "id": "2c4a1861",
   "metadata": {},
   "outputs": [
    {
     "name": "stdout",
     "output_type": "stream",
     "text": [
      "The Cosine Similarity Measure is: 0.8216\n"
     ]
    }
   ],
   "source": [
    "print(f\"The Cosine Similarity Measure is: {round(get_cosine_sim(x, y, 'count')[0][1], 4)}\")"
   ]
  },
  {
   "cell_type": "markdown",
   "id": "4a55d519",
   "metadata": {},
   "source": [
    "# Gini Impurity Score"
   ]
  },
  {
   "cell_type": "code",
   "execution_count": 23,
   "id": "eed3f4c2",
   "metadata": {},
   "outputs": [],
   "source": [
    "def gini_score(headers, classes):\n",
    "    count = 0\n",
    "    header_name = headers[0]\n",
    "    final_calculation_print = f\"Gini ({header_name}) = \"\n",
    "    final_calculation = 0\n",
    "    total_instance_count = 0\n",
    "    for x in range(len(classes)):\n",
    "        total_instance_count += classes[count][3]\n",
    "        count += 1\n",
    "\n",
    "    count = 0\n",
    "    for x in range(len(classes)):\n",
    "\n",
    "        class_name = classes[count][0]\n",
    "        yes_count = classes[count][1]\n",
    "        no_count = classes[count][2]\n",
    "        total_per_class_count = classes[count][3]\n",
    "        yes_div_total_square = round((yes_count/total_per_class_count)**2, 4)\n",
    "        no_div_total_square = round((no_count/total_per_class_count)**2, 4)\n",
    "        calculation_result_per_class = 1 - yes_div_total_square - no_div_total_square\n",
    "\n",
    "        print(f\"Gini ({headers[0]} = {classes[count][0]})\")\n",
    "        print(f\"1 - ({yes_count}/{total_per_class_count})^2 - ({no_count}/{total_per_class_count})^2 = 1 - {yes_div_total_square} - {no_div_total_square} = {round(calculation_result_per_class, 4)}\")\n",
    "\n",
    "        final_calculation_print += f\"({total_per_class_count}/{total_instance_count}) * {round(calculation_result_per_class, 4)} + \"\n",
    "        final_calculation += (total_per_class_count/total_instance_count) * calculation_result_per_class\n",
    "        count += 1\n",
    "    print(\"\\n\")\n",
    "    print(f\"{final_calculation_print[0:-3]} = {round(final_calculation, 4)}\")"
   ]
  },
  {
   "cell_type": "code",
   "execution_count": 24,
   "id": "39f662de",
   "metadata": {},
   "outputs": [
    {
     "name": "stdout",
     "output_type": "stream",
     "text": [
      "Gini (Outlook = Sunny)\n",
      "1 - (1/2)^2 - (1/2)^2 = 1 - 0.25 - 0.25 = 0.5\n",
      "Gini (Outlook = Overcast)\n",
      "1 - (3/3)^2 - (0/3)^2 = 1 - 1.0 - 0.0 = 0.0\n",
      "Gini (Outlook = Rain)\n",
      "1 - (1/2)^2 - (1/2)^2 = 1 - 0.25 - 0.25 = 0.5\n",
      "\n",
      "\n",
      "Gini (Outlook) = (2/7) * 0.5 + (3/7) * 0.0 + (2/7) * 0.5 = 0.2857\n"
     ]
    }
   ],
   "source": [
    "headers = [\"Outlook\", \"Yes\", \"No\", \"Number of instances\"]\n",
    "classes = [[\"Sunny\", 1, 1, 2], [\"Overcast\", 3, 0, 3], [\"Rain\", 1, 1, 2]]\n",
    "gini_score(headers, classes)"
   ]
  },
  {
   "cell_type": "code",
   "execution_count": 25,
   "id": "cbe0339e",
   "metadata": {},
   "outputs": [
    {
     "name": "stdout",
     "output_type": "stream",
     "text": [
      "Gini (Temperature = Hot)\n",
      "1 - (1/3)^2 - (2/3)^2 = 1 - 0.1111 - 0.4444 = 0.4445\n",
      "Gini (Temperature = Cool)\n",
      "1 - (1/1)^2 - (0/1)^2 = 1 - 1.0 - 0.0 = 0.0\n",
      "Gini (Temperature = Mild)\n",
      "1 - (2/2)^2 - (0/2)^2 = 1 - 1.0 - 0.0 = 0.0\n",
      "Gini (Temperature = Warm)\n",
      "1 - (1/1)^2 - (0/1)^2 = 1 - 1.0 - 0.0 = 0.0\n",
      "\n",
      "\n",
      "Gini (Temperature) = (3/7) * 0.4445 + (1/7) * 0.0 + (2/7) * 0.0 + (1/7) * 0.0 = 0.1905\n"
     ]
    }
   ],
   "source": [
    "headers = [\"Temperature\", \"Yes\", \"No\", \"Number of instances\"]\n",
    "classes = [[\"Hot\", 1, 2, 3], [\"Cool\", 1, 0, 1], [\"Mild\", 2, 0, 2], [\"Warm\", 1, 0, 1]]\n",
    "gini_score(headers, classes)"
   ]
  },
  {
   "cell_type": "code",
   "execution_count": 26,
   "id": "893a5d80",
   "metadata": {},
   "outputs": [
    {
     "name": "stdout",
     "output_type": "stream",
     "text": [
      "Gini (Humidity = Humid)\n",
      "1 - (1/2)^2 - (1/2)^2 = 1 - 0.25 - 0.25 = 0.5\n",
      "Gini (Humidity = Not Humid)\n",
      "1 - (4/5)^2 - (1/5)^2 = 1 - 0.64 - 0.04 = 0.32\n",
      "\n",
      "\n",
      "Gini (Humidity) = (2/7) * 0.5 + (5/7) * 0.32 = 0.3714\n"
     ]
    }
   ],
   "source": [
    "headers = [\"Humidity\", \"Yes\", \"No\", \"Number of instances\"]\n",
    "classes = [[\"Humid\", 1, 1, 2], [\"Not Humid\", 4, 1, 5]]\n",
    "gini_score(headers, classes)"
   ]
  },
  {
   "cell_type": "code",
   "execution_count": 27,
   "id": "13e1b416",
   "metadata": {},
   "outputs": [
    {
     "name": "stdout",
     "output_type": "stream",
     "text": [
      "Gini (Windy = Yes)\n",
      "1 - (0/1)^2 - (1/1)^2 = 1 - 0.0 - 1.0 = 0.0\n",
      "Gini (Windy = No)\n",
      "1 - (5/6)^2 - (1/6)^2 = 1 - 0.6944 - 0.0278 = 0.2778\n",
      "\n",
      "\n",
      "Gini (Windy) = (1/7) * 0.0 + (6/7) * 0.2778 = 0.2381\n"
     ]
    }
   ],
   "source": [
    "headers = [\"Windy\", \"Yes\", \"No\", \"Number of instances\"]\n",
    "classes = [[\"Yes\", 0, 1, 1], [\"No\", 5, 1, 6]]\n",
    "gini_score(headers, classes)"
   ]
  },
  {
   "cell_type": "code",
   "execution_count": null,
   "id": "a8285f04",
   "metadata": {},
   "outputs": [],
   "source": []
  }
 ],
 "metadata": {
  "kernelspec": {
   "display_name": "Python 3",
   "language": "python",
   "name": "python3"
  },
  "language_info": {
   "codemirror_mode": {
    "name": "ipython",
    "version": 3
   },
   "file_extension": ".py",
   "mimetype": "text/x-python",
   "name": "python",
   "nbconvert_exporter": "python",
   "pygments_lexer": "ipython3",
   "version": "3.7.7"
  },
  "varInspector": {
   "cols": {
    "lenName": 16,
    "lenType": 16,
    "lenVar": 40
   },
   "kernels_config": {
    "python": {
     "delete_cmd_postfix": "",
     "delete_cmd_prefix": "del ",
     "library": "var_list.py",
     "varRefreshCmd": "print(var_dic_list())"
    },
    "r": {
     "delete_cmd_postfix": ") ",
     "delete_cmd_prefix": "rm(",
     "library": "var_list.r",
     "varRefreshCmd": "cat(var_dic_list()) "
    }
   },
   "types_to_exclude": [
    "module",
    "function",
    "builtin_function_or_method",
    "instance",
    "_Feature"
   ],
   "window_display": false
  }
 },
 "nbformat": 4,
 "nbformat_minor": 5
}
